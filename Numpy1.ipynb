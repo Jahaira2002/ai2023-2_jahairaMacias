{
  "nbformat": 4,
  "nbformat_minor": 0,
  "metadata": {
    "colab": {
      "provenance": [],
      "include_colab_link": true
    },
    "kernelspec": {
      "name": "python3",
      "display_name": "Python 3"
    },
    "language_info": {
      "name": "python"
    }
  },
  "cells": [
    {
      "cell_type": "markdown",
      "metadata": {
        "id": "view-in-github",
        "colab_type": "text"
      },
      "source": [
        "<a href=\"https://colab.research.google.com/github/Jahaira2002/ai2023-2_jahairaMacias/blob/main/Numpy1.ipynb\" target=\"_parent\"><img src=\"https://colab.research.google.com/assets/colab-badge.svg\" alt=\"Open In Colab\"/></a>"
      ]
    },
    {
      "cell_type": "code",
      "source": [
        "import numpy as np\n",
        "\n",
        "aux=np.array([1,2,4,5])\n",
        "print(aux)\n",
        "# Tipo de arreglo\n",
        "print(aux.shape)\n",
        "print('------------------------------')\n",
        "\n",
        "aux=np.array([[1,2,3,4],[1,2,3,4]])\n",
        "print(aux.shape)\n",
        "print(aux)\n",
        "print(type(aux))\n",
        "print('------------------------------')\n",
        "\n",
        "tmp=np.zeros((4,4))\n",
        "print(tmp)\n",
        "print('------------------------------')\n",
        "\n",
        "\n",
        "tmp=np.full((4,4),5)\n",
        "print(tmp)\n",
        "print('------------------------------')\n",
        "\n",
        "\n",
        "tmp=np.eye(4,4)\n",
        "print(tmp)\n",
        "print('------------------------------')\n",
        "\n",
        "\n",
        "tmp=np.ones((4,4))\n",
        "print(tmp)\n",
        "print('------------------------------')\n"
      ],
      "metadata": {
        "colab": {
          "base_uri": "https://localhost:8080/"
        },
        "id": "uY4JuBDEQ3Pf",
        "outputId": "374e15d2-87f7-47ab-a2bd-50ba75e069d9"
      },
      "execution_count": 2,
      "outputs": [
        {
          "output_type": "stream",
          "name": "stdout",
          "text": [
            "[1 2 4 5]\n",
            "(4,)\n",
            "------------------------------\n",
            "(2, 4)\n",
            "[[1 2 3 4]\n",
            " [1 2 3 4]]\n",
            "<class 'numpy.ndarray'>\n",
            "------------------------------\n",
            "[[0. 0. 0. 0.]\n",
            " [0. 0. 0. 0.]\n",
            " [0. 0. 0. 0.]\n",
            " [0. 0. 0. 0.]]\n",
            "------------------------------\n",
            "[[5 5 5 5]\n",
            " [5 5 5 5]\n",
            " [5 5 5 5]\n",
            " [5 5 5 5]]\n",
            "------------------------------\n",
            "[[1. 0. 0. 0.]\n",
            " [0. 1. 0. 0.]\n",
            " [0. 0. 1. 0.]\n",
            " [0. 0. 0. 1.]]\n",
            "------------------------------\n",
            "[[1. 1. 1. 1.]\n",
            " [1. 1. 1. 1.]\n",
            " [1. 1. 1. 1.]\n",
            " [1. 1. 1. 1.]]\n",
            "------------------------------\n"
          ]
        }
      ]
    },
    {
      "cell_type": "code",
      "source": [
        "tmp=10*np.random.random((4,4))\n",
        "print(tmp)\n",
        "print('------------------------------')\n"
      ],
      "metadata": {
        "colab": {
          "base_uri": "https://localhost:8080/"
        },
        "id": "oENhBKH4TWml",
        "outputId": "ca262eea-4709-457a-a336-d1e57ddcbe5c"
      },
      "execution_count": 3,
      "outputs": [
        {
          "output_type": "stream",
          "name": "stdout",
          "text": [
            "[[0.11984573 5.07582113 5.58386145 4.12180228]\n",
            " [5.95380938 6.57967127 9.22679416 0.47351266]\n",
            " [4.70417845 9.10290713 0.288444   2.38470856]\n",
            " [4.65835955 8.20814696 9.40110307 9.26951105]]\n",
            "------------------------------\n"
          ]
        }
      ]
    },
    {
      "cell_type": "code",
      "source": [
        "print(tmp[:2,:2])\n",
        "print('------------------------------')\n",
        "print(tmp[2:4,2:4])\n"
      ],
      "metadata": {
        "colab": {
          "base_uri": "https://localhost:8080/"
        },
        "id": "GOYIbV-lTk3i",
        "outputId": "5c78b6a1-6bb9-404e-b453-45df5ed48a58"
      },
      "execution_count": 4,
      "outputs": [
        {
          "output_type": "stream",
          "name": "stdout",
          "text": [
            "[[0.11984573 5.07582113]\n",
            " [5.95380938 6.57967127]]\n",
            "------------------------------\n",
            "[[0.288444   2.38470856]\n",
            " [9.40110307 9.26951105]]\n"
          ]
        }
      ]
    },
    {
      "cell_type": "code",
      "source": [
        "print(tmp[1,1])\n",
        "print('------------------------------')\n",
        "print(tmp[2,2])\n",
        "print('------------------------------')\n"
      ],
      "metadata": {
        "colab": {
          "base_uri": "https://localhost:8080/"
        },
        "id": "lNNBFJAVTyZW",
        "outputId": "f2e89026-ee21-42d1-d811-bfc03c367773"
      },
      "execution_count": 5,
      "outputs": [
        {
          "output_type": "stream",
          "name": "stdout",
          "text": [
            "6.579671265910743\n",
            "------------------------------\n",
            "0.28844400473476695\n",
            "------------------------------\n"
          ]
        }
      ]
    },
    {
      "cell_type": "code",
      "source": [
        "tmp=10*np.random.random((4,4))\n",
        "print(tmp)"
      ],
      "metadata": {
        "colab": {
          "base_uri": "https://localhost:8080/"
        },
        "id": "q_pDe9QeT5KD",
        "outputId": "42b722f8-9348-498d-a0cd-06c8caeaee07"
      },
      "execution_count": 6,
      "outputs": [
        {
          "output_type": "stream",
          "name": "stdout",
          "text": [
            "[[7.83027565 7.14047857 4.03206034 5.88524899]\n",
            " [2.93462717 5.0936303  3.56419619 6.41879322]\n",
            " [7.96383263 9.36518153 4.60916743 6.13974082]\n",
            " [9.01609293 9.74330261 4.95312092 2.76628931]]\n"
          ]
        }
      ]
    },
    {
      "cell_type": "code",
      "source": [
        "mascara=tmp>5\n",
        "print(mascara)\n",
        "print('------------------------------')\n",
        "print(tmp[mascara])\n",
        "print('------------------------------')"
      ],
      "metadata": {
        "colab": {
          "base_uri": "https://localhost:8080/"
        },
        "id": "Q9jpU3zhT_X7",
        "outputId": "ed3a84f8-5618-448a-ef87-ce32114c4cec"
      },
      "execution_count": 7,
      "outputs": [
        {
          "output_type": "stream",
          "name": "stdout",
          "text": [
            "[[ True  True False  True]\n",
            " [False  True False  True]\n",
            " [ True  True False  True]\n",
            " [ True  True False False]]\n",
            "------------------------------\n",
            "[7.83027565 7.14047857 5.88524899 5.0936303  6.41879322 7.96383263\n",
            " 9.36518153 6.13974082 9.01609293 9.74330261]\n",
            "------------------------------\n"
          ]
        }
      ]
    },
    {
      "cell_type": "code",
      "source": [
        "mask = (tmp >=2) & (tmp<=4)\n",
        "print(tmp[mask])"
      ],
      "metadata": {
        "colab": {
          "base_uri": "https://localhost:8080/"
        },
        "id": "LvrnHa0qULQ6",
        "outputId": "3336117f-bf40-4b93-9fcf-86ab29976b41"
      },
      "execution_count": 8,
      "outputs": [
        {
          "output_type": "stream",
          "name": "stdout",
          "text": [
            "[2.93462717 3.56419619 2.76628931]\n"
          ]
        }
      ]
    },
    {
      "cell_type": "code",
      "source": [
        "tmp = np.random.randint(0, 11, size=(4, 4))\n",
        "print(tmp)\n",
        "print('----------------------------------')\n",
        "mask = np.mod(tmp, 2) == 0\n",
        "print(tmp[mask])"
      ],
      "metadata": {
        "colab": {
          "base_uri": "https://localhost:8080/"
        },
        "id": "rh7YX8UtUUv6",
        "outputId": "ceb29682-fdf4-405a-880d-57af660c4443"
      },
      "execution_count": 9,
      "outputs": [
        {
          "output_type": "stream",
          "name": "stdout",
          "text": [
            "[[ 6  9  8  7]\n",
            " [ 1  0  8  0]\n",
            " [ 2 10  3  2]\n",
            " [ 1  0  8  8]]\n",
            "----------------------------------\n",
            "[ 6  8  0  8  0  2 10  2  0  8  8]\n"
          ]
        }
      ]
    }
  ]
}