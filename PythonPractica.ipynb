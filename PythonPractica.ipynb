{
  "nbformat": 4,
  "nbformat_minor": 0,
  "metadata": {
    "colab": {
      "provenance": [],
      "authorship_tag": "ABX9TyN9iFkNM+HFLPhrSwSzKy/a",
      "include_colab_link": true
    },
    "kernelspec": {
      "name": "python3",
      "display_name": "Python 3"
    },
    "language_info": {
      "name": "python"
    }
  },
  "cells": [
    {
      "cell_type": "markdown",
      "metadata": {
        "id": "view-in-github",
        "colab_type": "text"
      },
      "source": [
        "<a href=\"https://colab.research.google.com/github/Jahaira2002/ai2023-2_jahairaMacias/blob/main/PythonPractica.ipynb\" target=\"_parent\"><img src=\"https://colab.research.google.com/assets/colab-badge.svg\" alt=\"Open In Colab\"/></a>"
      ]
    },
    {
      "cell_type": "code",
      "execution_count": 1,
      "metadata": {
        "colab": {
          "base_uri": "https://localhost:8080/"
        },
        "id": "di4vnfQyQbL0",
        "outputId": "705fb0bc-cb19-45f9-fdcb-dcc1549221f4"
      },
      "outputs": [
        {
          "output_type": "stream",
          "name": "stdout",
          "text": [
            "Python 3.10.12\n"
          ]
        }
      ],
      "source": [
        "!python --version"
      ]
    },
    {
      "cell_type": "code",
      "source": [
        "miVariable1 = 4"
      ],
      "metadata": {
        "id": "NZbBu8BDQmEU"
      },
      "execution_count": 2,
      "outputs": []
    },
    {
      "cell_type": "code",
      "source": [
        "miVariable2 = 6"
      ],
      "metadata": {
        "id": "4C35qKz8Qnc7"
      },
      "execution_count": 3,
      "outputs": []
    },
    {
      "cell_type": "code",
      "source": [
        "print(miVariable1+miVariable2)\n",
        "print(miVariable1-miVariable2)\n",
        "print(miVariable1*miVariable2)\n",
        "print(miVariable1/miVariable2)\n",
        "print(miVariable1^miVariable2)"
      ],
      "metadata": {
        "colab": {
          "base_uri": "https://localhost:8080/"
        },
        "id": "pMxvbjZVQnZT",
        "outputId": "4a1e1d06-6c31-47a9-ee20-6eb755007142"
      },
      "execution_count": 4,
      "outputs": [
        {
          "output_type": "stream",
          "name": "stdout",
          "text": [
            "10\n",
            "-2\n",
            "24\n",
            "0.6666666666666666\n",
            "2\n"
          ]
        }
      ]
    },
    {
      "cell_type": "code",
      "source": [
        "aux1 = True\n",
        "aux2 = False\n",
        "\n",
        "print(aux1 and aux2)\n",
        "print(aux1 or aux2)\n",
        "print(not aux1)"
      ],
      "metadata": {
        "colab": {
          "base_uri": "https://localhost:8080/"
        },
        "id": "X3vft_KoQnXB",
        "outputId": "cc325f07-973e-4362-9e22-7814e05c09f8"
      },
      "execution_count": 5,
      "outputs": [
        {
          "output_type": "stream",
          "name": "stdout",
          "text": [
            "False\n",
            "True\n",
            "False\n"
          ]
        }
      ]
    },
    {
      "cell_type": "code",
      "source": [
        "presentar = \"My name is \"\n",
        "nombre = \"Joel\"\n",
        "edad = \" and I'm 21 years old\"\n",
        "print(presentar.lower() , nombre , edad.upper())"
      ],
      "metadata": {
        "colab": {
          "base_uri": "https://localhost:8080/"
        },
        "id": "ck8SHnzGQnUt",
        "outputId": "5f25896b-33dc-4087-8130-3056e4646a0e"
      },
      "execution_count": 6,
      "outputs": [
        {
          "output_type": "stream",
          "name": "stdout",
          "text": [
            "my name is  Joel  AND I'M 21 YEARS OLD\n"
          ]
        }
      ]
    },
    {
      "cell_type": "code",
      "source": [
        "tmp = 'Joel, Alexander, Leslie, Brigite'\n",
        "print(tmp)\n",
        "print(tmp.split(','))"
      ],
      "metadata": {
        "colab": {
          "base_uri": "https://localhost:8080/"
        },
        "id": "_YT7vUqEQnSH",
        "outputId": "64ec4c6b-6446-4cd1-8b32-a80f5d082bfc"
      },
      "execution_count": 7,
      "outputs": [
        {
          "output_type": "stream",
          "name": "stdout",
          "text": [
            "Joel, Alexander, Leslie, Brigite\n",
            "['Joel', ' Alexander', ' Leslie', ' Brigite']\n"
          ]
        }
      ]
    },
    {
      "cell_type": "code",
      "source": [
        "from os import remove\n",
        "from pickle import APPEND\n",
        "listaUtiles=['notebook','pen','pencil','eraser','ruler']\n",
        "print(listaUtiles)\n",
        "listaUtiles.append('computer')\n",
        "print(listaUtiles)\n",
        "#Así se comenta lienas de código en python\n",
        "#listaUtiles.pop(1)\n",
        "del listaUtiles[1]\n",
        "print(listaUtiles)"
      ],
      "metadata": {
        "colab": {
          "base_uri": "https://localhost:8080/"
        },
        "id": "V768m2j6QnPX",
        "outputId": "f8f5a980-87aa-4019-c4d9-ccdbbe0b475c"
      },
      "execution_count": 8,
      "outputs": [
        {
          "output_type": "stream",
          "name": "stdout",
          "text": [
            "['notebook', 'pen', 'pencil', 'eraser', 'ruler']\n",
            "['notebook', 'pen', 'pencil', 'eraser', 'ruler', 'computer']\n",
            "['notebook', 'pencil', 'eraser', 'ruler', 'computer']\n"
          ]
        }
      ]
    },
    {
      "cell_type": "code",
      "source": [
        "lista = ['cuaderno','cuaderno','cuaderno','cuaderno']\n",
        "lista.remove('cuaderno')\n",
        "print(lista)"
      ],
      "metadata": {
        "colab": {
          "base_uri": "https://localhost:8080/"
        },
        "id": "N3yprrwLQnMz",
        "outputId": "7bd40107-8676-4202-d3b7-7a03400008bc"
      },
      "execution_count": 9,
      "outputs": [
        {
          "output_type": "stream",
          "name": "stdout",
          "text": [
            "['cuaderno', 'cuaderno', 'cuaderno']\n"
          ]
        }
      ]
    },
    {
      "cell_type": "code",
      "source": [
        "nuevaLista=list(range(15))\n",
        "print(nuevaLista)\n",
        "print(nuevaLista[4:11])\n",
        "print(nuevaLista[-3])\n",
        "print(nuevaLista[10:5])"
      ],
      "metadata": {
        "colab": {
          "base_uri": "https://localhost:8080/"
        },
        "id": "RS9fJzo5QnKJ",
        "outputId": "9c5878b6-ad72-400e-f312-7ce675b6fa8a"
      },
      "execution_count": 10,
      "outputs": [
        {
          "output_type": "stream",
          "name": "stdout",
          "text": [
            "[0, 1, 2, 3, 4, 5, 6, 7, 8, 9, 10, 11, 12, 13, 14]\n",
            "[4, 5, 6, 7, 8, 9, 10]\n",
            "12\n",
            "[]\n"
          ]
        }
      ]
    }
  ]
}