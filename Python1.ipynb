{
  "nbformat": 4,
  "nbformat_minor": 0,
  "metadata": {
    "colab": {
      "provenance": [],
      "authorship_tag": "ABX9TyO0c36P6zGmMDM5Riu/Ahc+",
      "include_colab_link": true
    },
    "kernelspec": {
      "name": "python3",
      "display_name": "Python 3"
    },
    "language_info": {
      "name": "python"
    }
  },
  "cells": [
    {
      "cell_type": "markdown",
      "metadata": {
        "id": "view-in-github",
        "colab_type": "text"
      },
      "source": [
        "<a href=\"https://colab.research.google.com/github/Jahaira2002/ai2023-2_jahairaMacias/blob/main/Python1.ipynb\" target=\"_parent\"><img src=\"https://colab.research.google.com/assets/colab-badge.svg\" alt=\"Open In Colab\"/></a>"
      ]
    },
    {
      "cell_type": "code",
      "execution_count": 1,
      "metadata": {
        "colab": {
          "base_uri": "https://localhost:8080/"
        },
        "id": "E6yxIMxYPazS",
        "outputId": "29ddebf6-33a2-48dd-9532-0e1e3a678c84"
      },
      "outputs": [
        {
          "output_type": "stream",
          "name": "stdout",
          "text": [
            "Python 3.10.12\n"
          ]
        }
      ],
      "source": [
        "!python --version"
      ]
    },
    {
      "cell_type": "code",
      "source": [
        "sample1=10\n",
        "sample2=2.2\n",
        "sample3='Jahaira'\n",
        "\n",
        "print(type[sample1])\n",
        "print(type[sample2])\n",
        "print(type[sample3])\n",
        "\n",
        "print(sample1+sample2)\n",
        "print(sample1*sample2)\n",
        "print(sample1**2)\n",
        "\n",
        "s1=True\n",
        "s2=False\n",
        "\n",
        "#print(s1 and s2)\n",
        "#print(s1 or s2)\n",
        "#print(not s1)\n",
        "\n",
        "#print(len(sample3))\n",
        "#print(sample3.upper())\n",
        "#print(sample3.lower())\n",
        "#print(sample3.capitalize())"
      ],
      "metadata": {
        "colab": {
          "base_uri": "https://localhost:8080/"
        },
        "id": "PJ4emIpvPjAI",
        "outputId": "036f808c-f89c-414e-f711-742fc1039cd9"
      },
      "execution_count": 2,
      "outputs": [
        {
          "output_type": "stream",
          "name": "stdout",
          "text": [
            "type[10]\n",
            "type[2.2]\n",
            "type['Jahaira']\n",
            "12.2\n",
            "22.0\n",
            "100\n"
          ]
        }
      ]
    },
    {
      "cell_type": "code",
      "source": [
        "someList=list()\n",
        "someList=['borrrador',1,'goma', 'mochila', True]\n",
        "print(someList[4])\n",
        "print(len(someList))\n",
        "\n",
        "# print('----------------')\n",
        "# for i in someList:\n",
        "#   print(i)\n",
        "\n",
        "# someList.append('regla')\n",
        "# print('-----------------')\n",
        "# for i in someList:\n",
        "#   print(i)\n",
        "# someList.pop(2)\n",
        "# print('*********')\n",
        "# for i in someList:\n",
        "#  print(i)\n",
        "# print('----')\n",
        "# print(someList[1:4])\n",
        "print(someList[-1])\n",
        "print(someList[:3])\n"
      ],
      "metadata": {
        "colab": {
          "base_uri": "https://localhost:8080/"
        },
        "id": "VWpgZaAgPpUR",
        "outputId": "5253c38f-63da-49ba-adec-28914a5714f2"
      },
      "execution_count": 3,
      "outputs": [
        {
          "output_type": "stream",
          "name": "stdout",
          "text": [
            "True\n",
            "5\n",
            "True\n",
            "['borrrador', 1, 'goma']\n"
          ]
        }
      ]
    },
    {
      "cell_type": "code",
      "source": [
        "d={'name':'Juan','age':30,'city':'El Carmen'}\n",
        "# print(d['name'])\n",
        "# print(d['name'])\n",
        "\n",
        "# d['uni']='Uleam'\n",
        "# print(d['name'])\n",
        "\n",
        "\n",
        "for key in d:\n",
        " print(d[key])"
      ],
      "metadata": {
        "colab": {
          "base_uri": "https://localhost:8080/"
        },
        "id": "lRzNKTv5Pu1r",
        "outputId": "5ffbf68a-201a-40f0-8b4d-33227c92c049"
      },
      "execution_count": 4,
      "outputs": [
        {
          "output_type": "stream",
          "name": "stdout",
          "text": [
            "Juan\n",
            "30\n",
            "El Carmen\n"
          ]
        }
      ]
    },
    {
      "cell_type": "code",
      "source": [
        "miDiccionario = {'cat':'bonito', 'dog':'angry', 'lion':'strong'}\n",
        "\n",
        "print(type(miDiccionario))\n",
        "\n",
        "for key, value in miDiccionario.items():\n",
        "  print(f'key {key}, value {value}')\n",
        "  print('key %s, value %s'%(key,value))\n",
        "  print('the key value is: {} and the value is: {}'.format(key, value))\n",
        "miDiccionario['monkey']='so cute'\n",
        "\n",
        "print('------------------')\n",
        "print(miDiccionario)"
      ],
      "metadata": {
        "colab": {
          "base_uri": "https://localhost:8080/"
        },
        "id": "886SRQjBP8bp",
        "outputId": "d4c16a00-d1b4-4253-b7ca-43a5ab3effa1"
      },
      "execution_count": 5,
      "outputs": [
        {
          "output_type": "stream",
          "name": "stdout",
          "text": [
            "<class 'dict'>\n",
            "key cat, value bonito\n",
            "key cat, value bonito\n",
            "the key value is: cat and the value is: bonito\n",
            "key dog, value angry\n",
            "key dog, value angry\n",
            "the key value is: dog and the value is: angry\n",
            "key lion, value strong\n",
            "key lion, value strong\n",
            "the key value is: lion and the value is: strong\n",
            "------------------\n",
            "{'cat': 'bonito', 'dog': 'angry', 'lion': 'strong', 'monkey': 'so cute'}\n"
          ]
        }
      ]
    }
  ]
}