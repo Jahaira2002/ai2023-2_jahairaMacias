{
  "nbformat": 4,
  "nbformat_minor": 0,
  "metadata": {
    "colab": {
      "provenance": [],
      "include_colab_link": true
    },
    "kernelspec": {
      "name": "python3",
      "display_name": "Python 3"
    },
    "language_info": {
      "name": "python"
    }
  },
  "cells": [
    {
      "cell_type": "markdown",
      "metadata": {
        "id": "view-in-github",
        "colab_type": "text"
      },
      "source": [
        "<a href=\"https://colab.research.google.com/github/Jahaira2002/ai2023-2_jahairaMacias/blob/main/Numpy2.ipynb\" target=\"_parent\"><img src=\"https://colab.research.google.com/assets/colab-badge.svg\" alt=\"Open In Colab\"/></a>"
      ]
    },
    {
      "cell_type": "code",
      "execution_count": 1,
      "metadata": {
        "colab": {
          "base_uri": "https://localhost:8080/"
        },
        "id": "HiSUVHqmVqjJ",
        "outputId": "4f62747f-6edf-4184-fd61-ae5284e25923"
      },
      "outputs": [
        {
          "output_type": "stream",
          "name": "stdout",
          "text": [
            "[[ 9  9  5  7]\n",
            " [ 4  9  6 10]\n",
            " [10 10 10  4]]\n",
            "[[10  4  9 10]\n",
            " [ 8  1  2 10]\n",
            " [ 9  2  6  5]]\n",
            "(3, 4)\n",
            "(3, 4)\n",
            "Adding numbers\n",
            "[[19 13 14 17]\n",
            " [12 10  8 20]\n",
            " [19 12 16  9]]\n",
            "Subtracting numbers\n",
            "[[-1  5 -4 -3]\n",
            " [-4  8  4  0]\n",
            " [ 1  8  4 -1]]\n",
            "Multiplication numbers\n",
            "[[ 90  36  45  70]\n",
            " [ 32   9  12 100]\n",
            " [ 90  20  60  20]]\n",
            "Add\n",
            "[[19 13 14 17]\n",
            " [12 10  8 20]\n",
            " [19 12 16  9]]\n",
            "Substract\n",
            "[[ 90  36  45  70]\n",
            " [ 32   9  12 100]\n",
            " [ 90  20  60  20]]\n",
            "Multiply\n",
            "[[-1  5 -4 -3]\n",
            " [-4  8  4  0]\n",
            " [ 1  8  4 -1]]\n",
            "Divide\n",
            "[[0.9        2.25       0.55555556 0.7       ]\n",
            " [0.5        9.         3.         1.        ]\n",
            " [1.11111111 5.         1.66666667 0.8       ]]\n"
          ]
        }
      ],
      "source": [
        "import numpy as np\n",
        "\n",
        "#create an array with random inteher values between 1 and 10\n",
        "a = np.random.randint(1, 11, size=(3,4))\n",
        "b = np.random.randint(1, 11, size=(3,4))\n",
        "print(a)\n",
        "print(b)\n",
        "print(a.shape)\n",
        "print(b.shape)\n",
        "print('Adding numbers')\n",
        "#plus\n",
        "print(a+b)\n",
        "print('Subtracting numbers')\n",
        "#minus\n",
        "print(a-b)\n",
        "print('Multiplication numbers')\n",
        "#times\n",
        "print(a*b)\n",
        "\n",
        "\n",
        "print('Add')\n",
        "print(np.add(a,b))\n",
        "print('Substract')\n",
        "print(np.multiply(a,b))\n",
        "print('Multiply')\n",
        "print(np.subtract(a,b))\n",
        "print('Divide')\n",
        "print(np.divide(a,b))\n"
      ]
    },
    {
      "cell_type": "code",
      "source": [
        "m1 = np.random.randint(1, 11, size=(3,4))\n",
        "m2 = np.random.randint(1, 11, size=(4,8))\n",
        "print('Matriz 1')\n",
        "print(m1)\n",
        "print(m1.shape)\n",
        "print('Matriz 2')\n",
        "print(m2)\n",
        "print(m2.shape)\n",
        "print('-------------------------')\n",
        "print('Forma 1')\n",
        "print(np.dot(m1,m2))\n",
        "print('Forma 2')\n",
        "print(m1.dot(m2))\n",
        "print(np.dot(m1,m2).shape)"
      ],
      "metadata": {
        "colab": {
          "base_uri": "https://localhost:8080/"
        },
        "id": "6CGPEmGcV2m7",
        "outputId": "bf3cd85a-3a58-4f3a-8d3a-3871e49b77ca"
      },
      "execution_count": 2,
      "outputs": [
        {
          "output_type": "stream",
          "name": "stdout",
          "text": [
            "Matriz 1\n",
            "[[ 8  6  1  4]\n",
            " [ 8  8 10  9]\n",
            " [ 5  5  3  6]]\n",
            "(3, 4)\n",
            "Matriz 2\n",
            "[[ 9 10  5  7 10  1  6  5]\n",
            " [ 9 10  9  1  5  3  2  9]\n",
            " [ 3  1  2 10  6  4  6  6]\n",
            " [ 6  4 10  3  4  1  9  6]]\n",
            "(4, 8)\n",
            "-------------------------\n",
            "Forma 1\n",
            "[[153 157 136  84 132  34 102 124]\n",
            " [228 206 222 191 216  81 205 226]\n",
            " [135 127 136  88 117  38 112 124]]\n",
            "Forma 2\n",
            "[[153 157 136  84 132  34 102 124]\n",
            " [228 206 222 191 216  81 205 226]\n",
            " [135 127 136  88 117  38 112 124]]\n",
            "(3, 8)\n"
          ]
        }
      ]
    },
    {
      "cell_type": "code",
      "source": [
        "a = np.random.randint(1, 11, size=(2,2))\n",
        "print(a.shape)\n",
        "print(type(a))\n",
        "print(a)\n",
        "print(a.T)\n"
      ],
      "metadata": {
        "colab": {
          "base_uri": "https://localhost:8080/"
        },
        "id": "yyHBJlflV89r",
        "outputId": "ca109acd-a7fd-4dee-ff0e-968fb6d95b96"
      },
      "execution_count": 3,
      "outputs": [
        {
          "output_type": "stream",
          "name": "stdout",
          "text": [
            "(2, 2)\n",
            "<class 'numpy.ndarray'>\n",
            "[[1 7]\n",
            " [6 9]]\n",
            "[[1 6]\n",
            " [7 9]]\n"
          ]
        }
      ]
    },
    {
      "cell_type": "code",
      "source": [
        "#broadcast\n",
        "x = np.random.randint(1, 11, size=(4,3))\n",
        "y = np.array([1,0,2])\n",
        "\n",
        "print(x.shape)\n",
        "print(y.shape)\n",
        "\n",
        "z=np.empty_like(x)\n",
        "print('---------------------')\n",
        "print(x)\n",
        "print('---------------------')\n",
        "print(y)\n",
        "print(z.shape)\n",
        "print('---------------------')\n",
        "print(z)\n"
      ],
      "metadata": {
        "colab": {
          "base_uri": "https://localhost:8080/"
        },
        "id": "Huwcm3tmWCxU",
        "outputId": "59329a1c-dd4b-4b53-95a8-1a74a6d3d071"
      },
      "execution_count": 4,
      "outputs": [
        {
          "output_type": "stream",
          "name": "stdout",
          "text": [
            "(4, 3)\n",
            "(3,)\n",
            "---------------------\n",
            "[[ 9 10  4]\n",
            " [ 7  1  1]\n",
            " [ 8  5  9]\n",
            " [ 7 10  7]]\n",
            "---------------------\n",
            "[1 0 2]\n",
            "(4, 3)\n",
            "---------------------\n",
            "[[4606281698874543309 4612248968380809216 4603179219131243634]\n",
            " [4604480259023595110 4602678819172646912 4621256167635550208]\n",
            " [4613937818241073152 4607182418800017408 4607682818758614130]\n",
            " [4617315517961601024 4610184818551597739 4605380978949069210]]\n"
          ]
        }
      ]
    },
    {
      "cell_type": "code",
      "source": [
        "for i in range(4):\n",
        "  z[i,:]=x[i,:]+y\n",
        "print(z)"
      ],
      "metadata": {
        "colab": {
          "base_uri": "https://localhost:8080/"
        },
        "id": "N-ynufb_WIT-",
        "outputId": "e76feccc-649e-4efb-9fee-196606273fb9"
      },
      "execution_count": 5,
      "outputs": [
        {
          "output_type": "stream",
          "name": "stdout",
          "text": [
            "[[10 10  6]\n",
            " [ 8  1  3]\n",
            " [ 9  5 11]\n",
            " [ 8 10  9]]\n"
          ]
        }
      ]
    },
    {
      "cell_type": "code",
      "source": [
        "z=x+y\n",
        "print(z)\n"
      ],
      "metadata": {
        "colab": {
          "base_uri": "https://localhost:8080/"
        },
        "id": "KpH4H66vWOy6",
        "outputId": "e0f3090d-3dae-4dad-b459-004debaefa2e"
      },
      "execution_count": 6,
      "outputs": [
        {
          "output_type": "stream",
          "name": "stdout",
          "text": [
            "[[10 10  6]\n",
            " [ 8  1  3]\n",
            " [ 9  5 11]\n",
            " [ 8 10  9]]\n"
          ]
        }
      ]
    },
    {
      "cell_type": "code",
      "source": [
        "#para comentar varias lineas de codigo se usa triple comillas simples \"\"\"  \"\"\"\n",
        "\n",
        "a=np.array([1,2,3])\n",
        "print(a)\n",
        "print('-----------------')\n",
        "\n",
        "b = np.full((6,3),[a])\n",
        "print(b)\n",
        "print('-----------------')\n",
        "\n",
        "c= np.tile(a,(6,1))\n",
        "print(c)"
      ],
      "metadata": {
        "colab": {
          "base_uri": "https://localhost:8080/"
        },
        "id": "QPFqtLRSWVGg",
        "outputId": "268f0705-d67a-45ae-877f-29aa3329b1f0"
      },
      "execution_count": 7,
      "outputs": [
        {
          "output_type": "stream",
          "name": "stdout",
          "text": [
            "[1 2 3]\n",
            "-----------------\n",
            "[[1 2 3]\n",
            " [1 2 3]\n",
            " [1 2 3]\n",
            " [1 2 3]\n",
            " [1 2 3]\n",
            " [1 2 3]]\n",
            "-----------------\n",
            "[[1 2 3]\n",
            " [1 2 3]\n",
            " [1 2 3]\n",
            " [1 2 3]\n",
            " [1 2 3]\n",
            " [1 2 3]]\n"
          ]
        }
      ]
    },
    {
      "cell_type": "code",
      "source": [
        "m1 = np.random.randint(0, 10, size=(6,6))\n",
        "print(m1)\n",
        "aux=np.mean(m1)\n",
        "print(aux)\n",
        "\n",
        "np.mean(m1, axis=1) #promedio por filas\n",
        "np.mean(m1, axis=0) #promedio por filas\n",
        "\n",
        "print('Promedio por filas')\n",
        "print(np.mean(m1, axis=1))\n",
        "print('Promedio por columnas')\n",
        "print(np.mean(m1, axis=0))"
      ],
      "metadata": {
        "colab": {
          "base_uri": "https://localhost:8080/"
        },
        "id": "7ShkdHNkWayV",
        "outputId": "7c2658ae-d0ec-403d-dc4f-4f1e038a9fcd"
      },
      "execution_count": 8,
      "outputs": [
        {
          "output_type": "stream",
          "name": "stdout",
          "text": [
            "[[8 6 8 8 0 5]\n",
            " [6 6 2 7 4 8]\n",
            " [3 6 6 6 4 2]\n",
            " [2 0 6 9 6 3]\n",
            " [2 1 7 7 6 1]\n",
            " [8 8 2 6 4 2]]\n",
            "4.861111111111111\n",
            "Promedio por filas\n",
            "[5.83333333 5.5        4.5        4.33333333 4.         5.        ]\n",
            "Promedio por columnas\n",
            "[4.83333333 4.5        5.16666667 7.16666667 4.         3.5       ]\n"
          ]
        }
      ]
    }
  ]
}