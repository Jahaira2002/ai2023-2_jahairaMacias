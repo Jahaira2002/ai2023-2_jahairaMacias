{
  "nbformat": 4,
  "nbformat_minor": 0,
  "metadata": {
    "colab": {
      "provenance": [],
      "include_colab_link": true
    },
    "kernelspec": {
      "name": "python3",
      "display_name": "Python 3"
    },
    "language_info": {
      "name": "python"
    }
  },
  "cells": [
    {
      "cell_type": "markdown",
      "metadata": {
        "id": "view-in-github",
        "colab_type": "text"
      },
      "source": [
        "<a href=\"https://colab.research.google.com/github/Jahaira2002/ai2023-2_jahairaMacias/blob/main/Jahaira_for_Data_Analysis.ipynb\" target=\"_parent\"><img src=\"https://colab.research.google.com/assets/colab-badge.svg\" alt=\"Open In Colab\"/></a>"
      ]
    },
    {
      "cell_type": "markdown",
      "source": [
        "NumPy Exercises for Data Analysis"
      ],
      "metadata": {
        "id": "hSsi2_-klame"
      }
    },
    {
      "cell_type": "code",
      "source": [
        "# Import numpy as np and see the version\n",
        "# your code here\n",
        "pass\n",
        "import numpy as np\n",
        "print(\"NumPy version:\", np.__version__)"
      ],
      "metadata": {
        "id": "kuK4TNepldem",
        "colab": {
          "base_uri": "https://localhost:8080/"
        },
        "outputId": "73b372e5-e26f-40d8-85cc-03990e39e677"
      },
      "execution_count": null,
      "outputs": [
        {
          "output_type": "stream",
          "name": "stdout",
          "text": [
            "NumPy version: 1.23.5\n"
          ]
        }
      ]
    },
    {
      "cell_type": "code",
      "source": [
        "# Create a 1D array of numbers from 0 to 9  Aquí se está creando una matriz unidimensional arr y se imprime en la consola. np.arange, la almacena en la variable arr y luego imprime la matriz en la consola.\n",
        "# your code here\n",
        "pass\n",
        "arr = np.arange(10)\n",
        "print(arr)"
      ],
      "metadata": {
        "id": "hbYX-oMBlvS-",
        "colab": {
          "base_uri": "https://localhost:8080/"
        },
        "outputId": "a28d173d-400e-4e4b-ae25-202ba92678fd"
      },
      "execution_count": null,
      "outputs": [
        {
          "output_type": "stream",
          "name": "stdout",
          "text": [
            "[0 1 2 3 4 5 6 7 8 9]\n"
          ]
        }
      ]
    },
    {
      "cell_type": "code",
      "source": [
        "# Create random vector of size 10 and replace the maximum value by 0\n",
        "pass\n",
        "\n",
        "random_vector = np.random.rand(10)\n",
        "max_index = np.argmax(random_vector)\n",
        "random_vector[max_index] = 0\n",
        "print(\"Random vector with maximum value replaced:\", random_vector)"
      ],
      "metadata": {
        "id": "HfsNmdvrwqsO",
        "colab": {
          "base_uri": "https://localhost:8080/"
        },
        "outputId": "2bbcbab6-7e5c-450f-9e7b-02162f520a0b"
      },
      "execution_count": null,
      "outputs": [
        {
          "output_type": "stream",
          "name": "stdout",
          "text": [
            "Random vector with maximum value replaced: [0.49497835 0.59578215 0.         0.52161457 0.1373931  0.81520535\n",
            " 0.64113789 0.29801467 0.68048208 0.65042174]\n"
          ]
        }
      ]
    },
    {
      "cell_type": "code",
      "source": [
        "# Print the number 8 from the array below:\n",
        "# arr = np.array([[1,2,3,4,5], [6,7,8,9,10]])\n",
        "pass\n",
        "\n",
        "arr = np.array([[1, 2, 3, 4, 5], [6, 7, 8, 9, 10]])\n",
        "print(arr[1, 2])\n"
      ],
      "metadata": {
        "id": "a9T-W3uUoqcE",
        "colab": {
          "base_uri": "https://localhost:8080/"
        },
        "outputId": "3389498b-3769-4b51-d71c-42edd44754a4"
      },
      "execution_count": null,
      "outputs": [
        {
          "output_type": "stream",
          "name": "stdout",
          "text": [
            "8\n"
          ]
        }
      ]
    },
    {
      "cell_type": "code",
      "source": [
        "# Print the numbers [3, 4, 5] from the array below:\n",
        "# arr = np.array([1,2,3,4,5,6,7])\n",
        "pass\n",
        "\n",
        "\n",
        "arr = np.array([1, 2, 3, 4, 5, 6, 7])\n",
        "\n",
        "result = arr[2:5]\n",
        "\n",
        "print(result)\n"
      ],
      "metadata": {
        "id": "PqvPijs8o2ub",
        "colab": {
          "base_uri": "https://localhost:8080/"
        },
        "outputId": "631a5814-5b8b-42c5-d036-4684e98ed26c"
      },
      "execution_count": null,
      "outputs": [
        {
          "output_type": "stream",
          "name": "stdout",
          "text": [
            "[3 4 5]\n"
          ]
        }
      ]
    },
    {
      "cell_type": "code",
      "source": [
        "# Print the last 4 numbers from the array below:\n",
        "# arr = np.array([1,2,3,4,5,6,7])\n",
        "pass\n",
        "\n",
        "\n",
        "arr = np.array([1, 2, 3, 4, 5, 6, 7])\n",
        "\n",
        "result = arr[-4:]\n",
        "\n",
        "print(result)\n"
      ],
      "metadata": {
        "id": "H5iUCizHpk0L",
        "colab": {
          "base_uri": "https://localhost:8080/"
        },
        "outputId": "1030793d-b429-4832-c236-293dfd4bef93"
      },
      "execution_count": null,
      "outputs": [
        {
          "output_type": "stream",
          "name": "stdout",
          "text": [
            "[4 5 6 7]\n"
          ]
        }
      ]
    },
    {
      "cell_type": "code",
      "source": [
        "# Create a 3×3 numpy array of all True’s\n",
        "# your code here\n",
        "pass\n",
        "\n",
        "# Create a 3x3 array of all True's\n",
        "true_array = np.ones((3, 3), dtype=bool)\n",
        "\n",
        "print(true_array)\n"
      ],
      "metadata": {
        "id": "C9nBztXhl9NA",
        "colab": {
          "base_uri": "https://localhost:8080/"
        },
        "outputId": "76df3b2a-6558-4e25-cddb-5281f28953b8"
      },
      "execution_count": null,
      "outputs": [
        {
          "output_type": "stream",
          "name": "stdout",
          "text": [
            "[[ True  True  True]\n",
            " [ True  True  True]\n",
            " [ True  True  True]]\n"
          ]
        }
      ]
    },
    {
      "cell_type": "code",
      "source": [
        "# Extract all odd numbers from arr\n",
        "# your code here\n",
        "pass\n",
        "\n",
        "arr = np.array([1, 2, 3, 4, 5, 6, 7, 8, 9])\n",
        "\n",
        "# Use boolean indexing to extract odd numbers\n",
        "odd_numbers = arr[arr % 2 == 1]\n",
        "\n",
        "print(odd_numbers)\n"
      ],
      "metadata": {
        "id": "W18lqbBwmIhw",
        "colab": {
          "base_uri": "https://localhost:8080/"
        },
        "outputId": "4aeb54b5-49ac-4d8d-823a-eb1d32afe0da"
      },
      "execution_count": null,
      "outputs": [
        {
          "output_type": "stream",
          "name": "stdout",
          "text": [
            "[1 3 5 7 9]\n"
          ]
        }
      ]
    },
    {
      "cell_type": "code",
      "source": [
        "# Create a vector with values ranging from 10 to 49 (★☆☆)\n",
        "pass\n",
        "\n",
        "# Create a vector with values ranging from 10 to 49\n",
        "vector = np.arange(10, 50)\n",
        "\n",
        "print(vector)\n"
      ],
      "metadata": {
        "id": "hA9iXCAwr55v",
        "colab": {
          "base_uri": "https://localhost:8080/"
        },
        "outputId": "2c9be8e9-0e06-4b83-e031-2fce4cc7fd56"
      },
      "execution_count": null,
      "outputs": [
        {
          "output_type": "stream",
          "name": "stdout",
          "text": [
            "[10 11 12 13 14 15 16 17 18 19 20 21 22 23 24 25 26 27 28 29 30 31 32 33\n",
            " 34 35 36 37 38 39 40 41 42 43 44 45 46 47 48 49]\n"
          ]
        }
      ]
    },
    {
      "cell_type": "code",
      "source": [
        "# Reverse a vector (first element becomes last)\n",
        "pass\n",
        "def invertir_vector(vector):\n",
        "    # Inicializa un nuevo vector vacío\n",
        "    vector_invertido = []\n",
        "\n",
        "    # Recorre el vector original en orden inverso y agrega elementos al nuevo vector\n",
        "    for i in range(len(vector) - 1, -1, -1):\n",
        "        vector_invertido.append(vector[i])\n",
        "\n",
        "    return vector_invertido\n",
        "\n",
        "# Ejemplo de uso\n",
        "mi_vector = [1, 2, 3, 4, 5]\n",
        "vector_invertido = invertir_vector(mi_vector)\n",
        "print(vector_invertido)\n"
      ],
      "metadata": {
        "id": "R-_IjeHyr83q",
        "colab": {
          "base_uri": "https://localhost:8080/"
        },
        "outputId": "7d71adfa-dba0-4dcb-b55a-fea102e0450f"
      },
      "execution_count": null,
      "outputs": [
        {
          "output_type": "stream",
          "name": "stdout",
          "text": [
            "[5, 4, 3, 2, 1]\n"
          ]
        }
      ]
    },
    {
      "cell_type": "code",
      "source": [
        "#  Create a 10x10 array with random integer values and find the minimum and maximum values\n",
        "pass\n",
        "a = np.random.randint(1, 100, size=(10, 10))\n",
        "valor_minimo = np.min(a)\n",
        "valor_maximo = np.max(a)\n",
        "\n",
        "print(\"Matriz de 10x10 con valores aleatorios:\")\n",
        "print(a)\n",
        "print(f\"Valor mínimo: {valor_minimo}\")\n",
        "print(f\"Valor máximo: {valor_maximo}\")"
      ],
      "metadata": {
        "id": "rEWwl_weuq3B",
        "colab": {
          "base_uri": "https://localhost:8080/"
        },
        "outputId": "d037b02f-7549-4db8-e846-508c7d3b5efe"
      },
      "execution_count": null,
      "outputs": [
        {
          "output_type": "stream",
          "name": "stdout",
          "text": [
            "Matriz de 10x10 con valores aleatorios:\n",
            "[[29 43 33 86 13 44 27 95 64  1]\n",
            " [30 59 29 75 54 60 69 95 55 28]\n",
            " [45 35 66 16 52 22 76 97 44 90]\n",
            " [85 29 85 69 89 91 30 52 51 91]\n",
            " [98  7 69 71 75 41 67 41 73 20]\n",
            " [67 92 94 64 15 96 79 67 32 97]\n",
            " [38 69 50 97 84 66 18 14 86 23]\n",
            " [73 61 97 53 44 55 99 80 42 65]\n",
            " [27 65 12 98 19 91  5 63 46 81]\n",
            " [14 55 77 54 24 59  3 37 36 37]]\n",
            "Valor mínimo: 1\n",
            "Valor máximo: 99\n"
          ]
        }
      ]
    },
    {
      "cell_type": "code",
      "source": [
        "# Create a 3x3x3 array with random values\n",
        "pass\n",
        "a = np.random.rand(3, 3, 3)\n",
        "print(\"3x3x3 array with random values:\")\n",
        "print(a)"
      ],
      "metadata": {
        "id": "KFy17KsvvSql",
        "colab": {
          "base_uri": "https://localhost:8080/"
        },
        "outputId": "baaa10f2-b2d4-48fe-c482-6552cf8c7a0e"
      },
      "execution_count": null,
      "outputs": [
        {
          "output_type": "stream",
          "name": "stdout",
          "text": [
            "3x3x3 array with random values:\n",
            "[[[0.47385429 0.16747979 0.68270436]\n",
            "  [0.02245127 0.44287961 0.91472621]\n",
            "  [0.35763534 0.05521425 0.89368563]]\n",
            "\n",
            " [[0.8434047  0.04761596 0.42926233]\n",
            "  [0.68355366 0.64130085 0.34007843]\n",
            "  [0.59955398 0.42732727 0.56027986]]\n",
            "\n",
            " [[0.82524438 0.05284357 0.4553096 ]\n",
            "  [0.57663724 0.47512504 0.87998363]\n",
            "  [0.92697726 0.37145564 0.7254134 ]]]\n"
          ]
        }
      ]
    },
    {
      "cell_type": "code",
      "source": [
        "# Replace all odd numbers in arr with -1\n",
        "# your code here\n",
        "pass\n",
        "arr = [1, 2, 3, 4, 5, 6, 7, 8, 9]\n",
        "arr = [-1 if x % 2 != 0 else x for x in arr]\n",
        "print(arr)"
      ],
      "metadata": {
        "id": "X7ol3alqmbNa",
        "colab": {
          "base_uri": "https://localhost:8080/"
        },
        "outputId": "409a7c01-ccca-4453-8d2b-6f6d44b5a31b"
      },
      "execution_count": null,
      "outputs": [
        {
          "output_type": "stream",
          "name": "stdout",
          "text": [
            "[-1, 2, -1, 4, -1, 6, -1, 8, -1]\n"
          ]
        }
      ]
    },
    {
      "cell_type": "code",
      "source": [
        "# Create an array of type float\n",
        "pass\n",
        "\n",
        "float_array = np.array([1.0, 2.5, 3.7, 4.2, 5.9], dtype=float)\n",
        "print(\"Array of type float:\")\n",
        "print(float_array)"
      ],
      "metadata": {
        "id": "GwdXYn9HqYTL",
        "colab": {
          "base_uri": "https://localhost:8080/"
        },
        "outputId": "fc412ca1-8430-469d-f33e-028f648ef102"
      },
      "execution_count": null,
      "outputs": [
        {
          "output_type": "stream",
          "name": "stdout",
          "text": [
            "Array of type float:\n",
            "[1.  2.5 3.7 4.2 5.9]\n"
          ]
        }
      ]
    },
    {
      "cell_type": "code",
      "source": [
        "# Convert a 1D array to a 2D array with 2 rows\n",
        "# your code here\n",
        "pass\n",
        "# Create a 1D array\n",
        "one_dimensional_array = np.array([1, 2, 3, 4, 5, 6, 7, 8])\n",
        "\n",
        "# Convert the 1D array to a 2D array with 2 rows\n",
        "two_dimensional_array = one_dimensional_array.reshape(2, -1)\n",
        "\n",
        "# The -1 in reshape allows NumPy to automatically calculate the number of columns\n",
        "# to ensure the total number of elements remains the same.\n",
        "\n",
        "print(\"1D Array:\")\n",
        "print(one_dimensional_array)\n",
        "\n",
        "print(\"2D Array with 2 rows:\")\n",
        "print(two_dimensional_array)\n"
      ],
      "metadata": {
        "id": "LvcL1lUYoPjN",
        "colab": {
          "base_uri": "https://localhost:8080/"
        },
        "outputId": "01a536ca-c323-476f-9af8-71e624db1a79"
      },
      "execution_count": null,
      "outputs": [
        {
          "output_type": "stream",
          "name": "stdout",
          "text": [
            "1D Array:\n",
            "[1 2 3 4 5 6 7 8]\n",
            "2D Array with 2 rows:\n",
            "[[1 2 3 4]\n",
            " [5 6 7 8]]\n"
          ]
        }
      ]
    },
    {
      "cell_type": "code",
      "source": [
        "# How to find common values between two arrays?\n",
        "\n",
        "# Z1 = np.random.randint(0,10,10)\n",
        "# Z2 = np.random.randint(0,10,10)\n",
        "\n",
        "# Create the two arrays Z1 and Z2 with random integer values\n",
        "Z1 = np.random.randint(0, 10, 10)\n",
        "Z2 = np.random.randint(0, 10, 10)\n",
        "\n",
        "# Convert the NumPy arrays to Python sets\n",
        "set_Z1 = set(Z1)\n",
        "set_Z2 = set(Z2)\n",
        "\n",
        "# Find the common values by taking the intersection of the sets\n",
        "common_values = set_Z1.intersection(set_Z2)\n",
        "\n",
        "# Convert the result back to a NumPy array if needed\n",
        "common_values_array = np.array(list(common_values))\n",
        "\n",
        "print(\"Z1 array:\")\n",
        "print(Z1)\n",
        "\n",
        "print(\"Z2 array:\")\n",
        "print(Z2)\n",
        "\n",
        "print(\"Common values:\")\n",
        "print(common_values_array)\n",
        "\n",
        "pass"
      ],
      "metadata": {
        "id": "VbzMDKQvv0DX",
        "colab": {
          "base_uri": "https://localhost:8080/"
        },
        "outputId": "42d1ae49-42ba-4d2a-8487-c8c211b09b37"
      },
      "execution_count": null,
      "outputs": [
        {
          "output_type": "stream",
          "name": "stdout",
          "text": [
            "Z1 array:\n",
            "[3 8 3 8 0 5 8 9 1 0]\n",
            "Z2 array:\n",
            "[2 8 5 7 2 0 9 9 3 3]\n",
            "Common values:\n",
            "[0 3 5 8 9]\n"
          ]
        }
      ]
    },
    {
      "cell_type": "code",
      "source": [
        "#  Consider two random array A and B, check if they are equal\n",
        "\n",
        "\n",
        "# A = np.random.randint(0,2,5)\n",
        "# B = np.random.randint(0,2,5)\n",
        "\n",
        "pass\n",
        "\n",
        "# Create two random arrays A and B with integer values (0 or 1)\n",
        "A = np.random.randint(0, 2, 5)\n",
        "B = np.random.randint(0, 2, 5)\n",
        "\n",
        "# Check if A and B are equal\n",
        "are_equal = np.array_equal(A, B)\n",
        "\n",
        "print(\"Array A:\")\n",
        "print(A)\n",
        "\n",
        "print(\"Array B:\")\n",
        "print(B)\n",
        "\n",
        "if are_equal:\n",
        "    print(\"Arrays A and B are equal.\")\n",
        "else:\n",
        "    print(\"Arrays A and B are not equal.\")\n"
      ],
      "metadata": {
        "id": "RWWspnDAwWGV",
        "colab": {
          "base_uri": "https://localhost:8080/"
        },
        "outputId": "844cd633-53cb-42a0-8174-70592bead37b"
      },
      "execution_count": null,
      "outputs": [
        {
          "output_type": "stream",
          "name": "stdout",
          "text": [
            "Array A:\n",
            "[0 0 0 0 1]\n",
            "Array B:\n",
            "[0 1 1 0 0]\n",
            "Arrays A and B are not equal.\n"
          ]
        }
      ]
    },
    {
      "cell_type": "code",
      "source": [
        "# Stack arrays a and b vertically\n",
        "# your code here\n",
        "pass\n",
        "\n",
        "# Create arrays a and b (for example)\n",
        "a = np.array([1, 2, 3])\n",
        "b = np.array([4, 5, 6])\n",
        "\n",
        "# Stack the arrays vertically\n",
        "result = np.vstack((a, b))\n",
        "\n",
        "print(\"Array a:\")\n",
        "print(a)\n",
        "\n",
        "print(\"Array b:\")\n",
        "print(b)\n",
        "\n",
        "print(\"Stacked result:\")\n",
        "print(result)\n"
      ],
      "metadata": {
        "id": "SW3KvPXhoeie",
        "colab": {
          "base_uri": "https://localhost:8080/"
        },
        "outputId": "f6e69c52-ce09-428f-b82f-733ee7badd9f"
      },
      "execution_count": null,
      "outputs": [
        {
          "output_type": "stream",
          "name": "stdout",
          "text": [
            "Array a:\n",
            "[1 2 3]\n",
            "Array b:\n",
            "[4 5 6]\n",
            "Stacked result:\n",
            "[[1 2 3]\n",
            " [4 5 6]]\n"
          ]
        }
      ]
    },
    {
      "cell_type": "code",
      "source": [
        "# Stack the arrays a and b horizontally.\n",
        "# your code here\n",
        "pass\n",
        "# Create arrays a and b (for example)\n",
        "a = np.array([1, 2, 3])\n",
        "b = np.array([4, 5, 6])\n",
        "\n",
        "# Stack the arrays horizontally\n",
        "result = np.hstack((a, b))\n",
        "\n",
        "print(\"Array a:\")\n",
        "print(a)\n",
        "\n",
        "print(\"Array b:\")\n",
        "print(b)\n",
        "\n",
        "print(\"Stacked result:\")\n",
        "print(result)\n"
      ],
      "metadata": {
        "id": "6wVOpIT9omwe",
        "colab": {
          "base_uri": "https://localhost:8080/"
        },
        "outputId": "dfa1525a-b3c0-4eda-b9c8-b2a408451201"
      },
      "execution_count": null,
      "outputs": [
        {
          "output_type": "stream",
          "name": "stdout",
          "text": [
            "Array a:\n",
            "[1 2 3]\n",
            "Array b:\n",
            "[4 5 6]\n",
            "Stacked result:\n",
            "[1 2 3 4 5 6]\n"
          ]
        }
      ]
    },
    {
      "cell_type": "code",
      "source": [
        "# Get all items between 5 and 10 from array tmp.\n",
        "# your code here\n",
        "\n",
        "# pass\n",
        "\n",
        "# Create a sample array\n",
        "tmp = np.array([2, 6, 8, 3, 9, 1, 7, 10, 4, 5])\n",
        "\n",
        "# Get items between 5 and 10\n",
        "items_between_5_and_10 = tmp[(tmp >= 5) & (tmp <= 10)]\n",
        "\n",
        "print(\"Original array (tmp):\")\n",
        "print(tmp)\n",
        "\n",
        "print(\"Items between 5 and 10:\")\n",
        "print(items_between_5_and_10)\n"
      ],
      "metadata": {
        "id": "L_7vMkGOo0gX",
        "colab": {
          "base_uri": "https://localhost:8080/"
        },
        "outputId": "cfc63cb9-1d81-460d-881c-55ead6d2b605"
      },
      "execution_count": null,
      "outputs": [
        {
          "output_type": "stream",
          "name": "stdout",
          "text": [
            "Original array (tmp):\n",
            "[ 2  6  8  3  9  1  7 10  4  5]\n",
            "Items between 5 and 10:\n",
            "[ 6  8  9  7 10  5]\n"
          ]
        }
      ]
    },
    {
      "cell_type": "code",
      "source": [
        "# How to make a python function that handles scalars to work on numpy arrays?\n",
        "# Hint\n",
        "# Desired Output:\n",
        "# a = np.array([5, 7, 9, 8, 6, 4, 5])\n",
        "# b = np.array([6, 3, 4, 8, 9, 7, 1])\n",
        "# pair_max(a, b)\n",
        "# #> array([ 6.,  7.,  9.,  8.,  9.,  7.,  5.])\n",
        "\n",
        "\n",
        "# your code here\n",
        "\n",
        "def pair_max(a, b):\n",
        "    # Ensure that a and b are NumPy arrays for consistent element-wise operations\n",
        "    a = np.array(a)\n",
        "    b = np.array(b)\n",
        "\n",
        "    # Calculate the element-wise maximum between a and b\n",
        "    result = np.maximum(a, b)\n",
        "\n",
        "    return result\n",
        "\n",
        "# Example usage:\n",
        "a = np.array([5, 7, 9, 8, 6, 4, 5])\n",
        "b = np.array([6, 3, 4, 8, 9, 7, 1])\n",
        "\n",
        "result = pair_max(a, b)\n",
        "print(result)\n"
      ],
      "metadata": {
        "colab": {
          "base_uri": "https://localhost:8080/"
        },
        "id": "FVZz6ZY0p9ya",
        "outputId": "6ba98e24-e43f-47e2-fd6c-5bf20ec7b00e"
      },
      "execution_count": null,
      "outputs": [
        {
          "output_type": "stream",
          "name": "stdout",
          "text": [
            "[6 7 9 8 9 7 5]\n"
          ]
        }
      ]
    },
    {
      "cell_type": "code",
      "source": [
        "# Swap columns 1 and 2 in the array arr.\n",
        "# Hint\n",
        "# Desired Output:\n",
        "# [[0 2 1]\n",
        "#  [3 5 4]\n",
        "#  [6 8 7]]\n",
        "\n",
        "\n",
        "# your code here\n",
        "pass\n",
        "\n",
        "# Create a sample array\n",
        "arr = np.array([[0, 1, 2],\n",
        "                [3, 4, 5],\n",
        "                [6, 7, 8]])\n",
        "\n",
        "# Swap columns 1 and 2\n",
        "arr[:, [1, 2]] = arr[:, [2, 1]]\n",
        "\n",
        "print(arr)\n"
      ],
      "metadata": {
        "colab": {
          "base_uri": "https://localhost:8080/"
        },
        "outputId": "ce9ede6f-b70f-4446-a609-64b5c5663ef9",
        "id": "8vIzM5e8ql6i"
      },
      "execution_count": null,
      "outputs": [
        {
          "output_type": "stream",
          "name": "stdout",
          "text": [
            "[[0 2 1]\n",
            " [3 5 4]\n",
            " [6 8 7]]\n"
          ]
        }
      ]
    },
    {
      "cell_type": "code",
      "source": [],
      "metadata": {
        "id": "sFTGsttc_QuW"
      },
      "execution_count": null,
      "outputs": []
    },
    {
      "cell_type": "code",
      "source": [
        "# Create a 2D array of shape 5x3 to contain random decimal numbers between 5 and 10.\n",
        "# Hint\n",
        "# The desired Output should be like the following one:\n",
        "#  [[ 8.50061025  9.10531502  6.85867783]\n",
        "#   [ 9.76262069  9.87717411  7.13466701]\n",
        "#   [ 7.48966403  8.33409158  6.16808631]\n",
        "#   [ 7.75010551  9.94535696  5.27373226]\n",
        "#   [ 8.0850361   5.56165518  7.31244004]]\n",
        "\n",
        "# Create a 5x3 array with random decimal numbers between 5 and 10\n",
        "random_array = np.random.uniform(5, 10, (5, 3))\n",
        "\n",
        "# Print the result\n",
        "print(random_array)\n"
      ],
      "metadata": {
        "id": "FOXX5b17rY7E",
        "colab": {
          "base_uri": "https://localhost:8080/"
        },
        "outputId": "8c9258ad-bd8c-4ab3-ad19-4eede3020101"
      },
      "execution_count": null,
      "outputs": [
        {
          "output_type": "stream",
          "name": "stdout",
          "text": [
            "[[8.75527391 5.97806601 5.37304236]\n",
            " [5.49518347 8.6396188  8.92589538]\n",
            " [6.91667625 6.3940603  7.38360252]\n",
            " [7.84257906 8.11541332 7.31595714]\n",
            " [5.40309866 6.52144595 6.71386631]]\n"
          ]
        }
      ]
    },
    {
      "cell_type": "code",
      "source": [],
      "metadata": {
        "id": "SORuPuHc_TPZ"
      },
      "execution_count": null,
      "outputs": []
    }
  ]
}